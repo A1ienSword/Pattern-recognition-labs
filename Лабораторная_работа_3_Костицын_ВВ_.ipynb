{
  "nbformat": 4,
  "nbformat_minor": 0,
  "metadata": {
    "colab": {
      "provenance": [],
      "authorship_tag": "ABX9TyNMegncZYvy7Hxybg5twUKu",
      "include_colab_link": true
    },
    "kernelspec": {
      "name": "python3",
      "display_name": "Python 3"
    },
    "language_info": {
      "name": "python"
    }
  },
  "cells": [
    {
      "cell_type": "markdown",
      "metadata": {
        "id": "view-in-github",
        "colab_type": "text"
      },
      "source": [
        "<a href=\"https://colab.research.google.com/github/A1ienSword/Pattern-recognition-labs/blob/main/%D0%9B%D0%B0%D0%B1%D0%BE%D1%80%D0%B0%D1%82%D0%BE%D1%80%D0%BD%D0%B0%D1%8F_%D1%80%D0%B0%D0%B1%D0%BE%D1%82%D0%B0_3_%D0%9A%D0%BE%D1%81%D1%82%D0%B8%D1%86%D1%8B%D0%BD_%D0%92%D0%92_.ipynb\" target=\"_parent\"><img src=\"https://colab.research.google.com/assets/colab-badge.svg\" alt=\"Open In Colab\"/></a>"
      ]
    },
    {
      "cell_type": "markdown",
      "source": [
        "# Лабораторная работа №3. Метод опорных векторов.\n",
        "1. Написать программу, реализующую классификацию объектов, заданных признаковым\n",
        "описанием, на основании метода опорных векторов (SVM) для случая с «мягким\n",
        "зазором» без использования kernel trick.\n",
        "2. Продемонстрировать работу программы на подготовленном наборе данных.\n",
        "3. Функция, реализующая алгоритм SVM, должна быть реализована студентом\n",
        "самостоятельно. Допускается использование готовых примитивов из стандартных\n",
        "или сторонних библиотек для выполнения базовых (в т.ч. векторизованных) операций\n",
        "(сложение, умножение, возведение в степень, вычисление среднего значения и т.п.).\n",
        "4. Требования к набору данных: не менее 30 объектов, не менее 2 и не более 3 классов, не менее 3 и не более 7 атрибутов у объекта. Можно взять предложенные наборы данных «Ирисы» либо «Фрукты и овощи».\n",
        "5. При выполнении задания рекомендуется использовать язык программирования Python или среду Octave."
      ],
      "metadata": {
        "id": "_y36ldI07Lvb"
      }
    },
    {
      "cell_type": "code",
      "execution_count": 1,
      "metadata": {
        "id": "Fb5tk8Y37BpZ"
      },
      "outputs": [],
      "source": [
        "import pandas as pd\n",
        "import numpy as np\n",
        "from sklearn.model_selection import train_test_split\n",
        "from sklearn.preprocessing import LabelEncoder, StandardScaler"
      ]
    },
    {
      "cell_type": "code",
      "source": [
        "# Загрузка данных\n",
        "data = pd.read_csv('iris.csv.gz')"
      ],
      "metadata": {
        "id": "-kbb5LaW73mE"
      },
      "execution_count": 2,
      "outputs": []
    },
    {
      "cell_type": "code",
      "source": [
        "# Разделение данных на признаки (X) и метки классов (y)\n",
        "X = data.iloc[:, :-1].values\n",
        "y = data.iloc[:, -1].values"
      ],
      "metadata": {
        "id": "-X-48-Wq79Wy"
      },
      "execution_count": 3,
      "outputs": []
    },
    {
      "cell_type": "code",
      "source": [
        "# Преобразование меток в числовые\n",
        "le = LabelEncoder()\n",
        "y = le.fit_transform(y)\n",
        "# Разделение на обучающую и тестовую выборки\n",
        "X_train, X_test, y_train, y_test = train_test_split(X, y, test_size=0.1, random_state=23)"
      ],
      "metadata": {
        "id": "QasirlJ77_qW"
      },
      "execution_count": 4,
      "outputs": []
    },
    {
      "cell_type": "code",
      "source": [
        "# Нормализация данных\n",
        "scaler = StandardScaler()\n",
        "X_train_scaled = scaler.fit_transform(X_train)\n",
        "X_test_scaled = scaler.transform(X_test)"
      ],
      "metadata": {
        "id": "plSfhV9K8A_c"
      },
      "execution_count": 5,
      "outputs": []
    },
    {
      "cell_type": "code",
      "source": [
        "def train_svm(X, y, C=1.0, learning_rate=0.001, iterations=1000, verbose=False):\n",
        "    \"\"\"\n",
        "    Обучение бинарного классификатора SVM с мягким зазором.\n",
        "\n",
        "    Параметры:\n",
        "    X - признаки обучающей выборки\n",
        "    y - метки классов (1 и -1)\n",
        "    C - параметр регуляризации\n",
        "    learning_rate - скорость обучения\n",
        "    iterations - количество итераций\n",
        "    verbose - вывод потерь в процессе обучения\n",
        "    \"\"\"\n",
        "    n_samples, n_features = X.shape\n",
        "    w = np.zeros(n_features)\n",
        "    b = 0.0\n",
        "\n",
        "    for it in range(iterations):\n",
        "        scores = np.dot(X, w) + b\n",
        "        y_pred = y * scores\n",
        "        hinge_loss = np.maximum(0, 1 - y_pred)\n",
        "        loss = 0.5 * np.dot(w, w) + C * np.sum(hinge_loss)\n",
        "\n",
        "        mask = hinge_loss > 0\n",
        "\n",
        "        if np.sum(mask) == 0:\n",
        "            grad_w = w\n",
        "            grad_b = 0\n",
        "        else:\n",
        "            grad_w = w - C * np.dot(X[mask].T, y[mask])\n",
        "            grad_b = -C * np.sum(y[mask])\n",
        "\n",
        "        w -= learning_rate * grad_w\n",
        "        b -= learning_rate * grad_b\n",
        "\n",
        "        if verbose and (it % 100 == 0):\n",
        "            print(f'Итерация {it}, Потери: {loss:.4f}')\n",
        "\n",
        "    return w, b"
      ],
      "metadata": {
        "id": "9mGc0ARgBApc"
      },
      "execution_count": 6,
      "outputs": []
    },
    {
      "cell_type": "code",
      "source": [
        "# Функция предсказания классов\n",
        "def predict(X):\n",
        "    decision_scores = np.zeros((X.shape[0], len(classes)))\n",
        "    for i, (w, b) in enumerate(classifiers):\n",
        "        scores = np.dot(X, w) + b\n",
        "        decision_scores[:, i] = scores\n",
        "    return np.argmax(decision_scores, axis=1)"
      ],
      "metadata": {
        "id": "FXuBTU01BLa2"
      },
      "execution_count": 7,
      "outputs": []
    },
    {
      "cell_type": "code",
      "source": [
        "# Обучение мультиклассового классификатора по схеме OvR\n",
        "classes = np.unique(y)\n",
        "classifiers = []\n",
        "for cls in classes:\n",
        "    # Создание бинарных меток для текущего класса\n",
        "    y_binary = np.where(y_train == cls, 1, -1)\n",
        "    # Обучение SVM\n",
        "    w, b = train_svm(X_train_scaled, y_binary, C=1.0, learning_rate=0.01, iterations=1000)\n",
        "    classifiers.append((w, b))"
      ],
      "metadata": {
        "id": "ESv6qDO-BI50"
      },
      "execution_count": 8,
      "outputs": []
    },
    {
      "cell_type": "code",
      "source": [
        "# Оценка точности на тестовой выборке\n",
        "y_pred = predict(X_test_scaled)\n",
        "accuracy = np.mean(y_pred == y_test)\n",
        "print(f'Точность на тестовой выборке: {accuracy:.2f}')"
      ],
      "metadata": {
        "colab": {
          "base_uri": "https://localhost:8080/"
        },
        "id": "pmGpMMefBOXh",
        "outputId": "13e46b49-bb43-435a-9375-405b8f06424c"
      },
      "execution_count": 9,
      "outputs": [
        {
          "output_type": "stream",
          "name": "stdout",
          "text": [
            "Точность на тестовой выборке: 1.00\n"
          ]
        }
      ]
    }
  ]
}