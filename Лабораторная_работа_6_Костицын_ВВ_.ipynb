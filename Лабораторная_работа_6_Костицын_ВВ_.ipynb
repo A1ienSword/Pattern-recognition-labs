{
  "nbformat": 4,
  "nbformat_minor": 0,
  "metadata": {
    "colab": {
      "provenance": [],
      "authorship_tag": "ABX9TyMjAxDpRXaCEzFrbjmXZ9RY",
      "include_colab_link": true
    },
    "kernelspec": {
      "name": "python3",
      "display_name": "Python 3"
    },
    "language_info": {
      "name": "python"
    }
  },
  "cells": [
    {
      "cell_type": "markdown",
      "metadata": {
        "id": "view-in-github",
        "colab_type": "text"
      },
      "source": [
        "<a href=\"https://colab.research.google.com/github/A1ienSword/Pattern-recognition-labs/blob/main/%D0%9B%D0%B0%D0%B1%D0%BE%D1%80%D0%B0%D1%82%D0%BE%D1%80%D0%BD%D0%B0%D1%8F_%D1%80%D0%B0%D0%B1%D0%BE%D1%82%D0%B0_6_%D0%9A%D0%BE%D1%81%D1%82%D0%B8%D1%86%D1%8B%D0%BD_%D0%92%D0%92_.ipynb\" target=\"_parent\"><img src=\"https://colab.research.google.com/assets/colab-badge.svg\" alt=\"Open In Colab\"/></a>"
      ]
    },
    {
      "cell_type": "markdown",
      "source": [
        "# Лабораторная работа №6. Оценка качества работы алгоритмов классификации и кластеризации.\n",
        "1. На основе предыдущих лабораторных работ написать программу, оценивающую\n",
        "результаты работы различных алгоритмов кластеризации и классификации (k-means,\n",
        "kNN, SVM, максимин).\n",
        "2. Необходимо реализовать следующие методы оценки:\n",
        "\n",
        "  a) Для внешнего оценивания:\n",
        "  1. Точность, отклик (полнота), F1-мера\n",
        "  2. ROC-кривые\n",
        "  3. Среднеквадратичная ошибка\n",
        "  4. Кросс-валидация\n",
        "  5. Матрица неточностей (confusion matrix)\n",
        "\n",
        "  b) Для внутреннего оценивания:\n",
        "  1. Коэффициент детерминации (R-squared для случая без известного разбиения)\n",
        "  2. Коэффициент силуэта\n",
        "  3. Индекс Данна (Dunn index)\n",
        "  4. Индекс Девиса-Болдина (DBI)\n",
        "  5. Индекс валидности по плотности кластеризации (DBCV)\n",
        "\n",
        "3. Продемонстрировать работу программы на подготовленном наборе данных.\n",
        "4. Функции, реализующие указанные способы оценки качества, должны быть\n",
        "реализованы студентом самостоятельно. Допускается использование готовых\n",
        "примитивов из стандартных или сторонних библиотек для выполнения базовых (в т.ч.\n",
        "векторизованных) операций (сложение, умножение, возведение в степень, вычисление\n",
        "среднего значения и т.п.).\n",
        "5. Требования к набору данных: не менее 30 объектов, не менее 2 и не более 3 классов,\n",
        "не менее 3 и не более 7 атрибутов у объекта. Можно взять предложенные наборы\n",
        "данных «Ирисы» либо «Фрукты и овощи».\n",
        "6. При выполнении задания рекомендуется использовать язык программирования Python\n",
        "или среду Octave."
      ],
      "metadata": {
        "id": "Ern6XRFkakIU"
      }
    },
    {
      "cell_type": "code",
      "execution_count": null,
      "metadata": {
        "id": "M8CTwwmZXzUN"
      },
      "outputs": [],
      "source": [
        "import pandas as pd\n",
        "import numpy as np\n",
        "import matplotlib.pyplot as plt\n",
        "from sklearn.datasets import load_iris\n",
        "from sklearn.preprocessing import LabelEncoder, StandardScaler\n",
        "from sklearn.model_selection import train_test_split\n",
        "from collections import Counter\n",
        "from sklearn.metrics import pairwise_distances\n",
        "from sklearn.metrics import accuracy_score"
      ]
    },
    {
      "cell_type": "code",
      "source": [
        "def k_means(X, n_clusters=3, max_iter=300, tol=1e-4):\n",
        "    \"\"\"\n",
        "    Реализация алгоритма k-средних\n",
        "\n",
        "    Параметры:\n",
        "    X - нормализованные данные\n",
        "    n_clusters - количество кластеров\n",
        "    max_iter - максимальное количество итераций\n",
        "    tol - допустимое изменение для остановки\n",
        "    \"\"\"\n",
        "    # Инициализация центроидов случайными точками\n",
        "    np.random.seed(42)\n",
        "    centroids = X[np.random.choice(X.shape[0], n_clusters, replace=False)]\n",
        "\n",
        "    for _ in range(max_iter):\n",
        "        # Назначение кластеров\n",
        "        distances = np.linalg.norm(X[:, np.newaxis] - centroids, axis=2)\n",
        "        labels = np.argmin(distances, axis=1)\n",
        "\n",
        "        # Обновление центроидов\n",
        "        new_centroids = np.array([X[labels == i].mean(axis=0) for i in range(n_clusters)])\n",
        "\n",
        "        # Проверка сходимости\n",
        "        if np.linalg.norm(new_centroids - centroids) < tol:\n",
        "            break\n",
        "\n",
        "        centroids = new_centroids\n",
        "\n",
        "    return centroids, labels\n"
      ],
      "metadata": {
        "id": "GRBTmEXbX8LD"
      },
      "execution_count": null,
      "outputs": []
    },
    {
      "cell_type": "code",
      "source": [
        "def maximin_cluster(data, max_clusters=100, threshold_mult=0.7):\n",
        "    \"\"\"\n",
        "    Реализация алгоритма максимина для кластеризации.\n",
        "\n",
        "    Параметры:\n",
        "    ----------\n",
        "    data - Массив данных для кластеризации (n_samples, n_features)\n",
        "    max_clusters - Максимальное количество кластеров\n",
        "    threshold_mult - Множитель для порога\n",
        "    \"\"\"\n",
        "    n_samples = data.shape[0]\n",
        "\n",
        "    # Инициализация - первый центр - случайный\n",
        "    centers = [data[np.random.randint(0, n_samples)].copy()]\n",
        "    labels = np.zeros(n_samples, dtype=int)\n",
        "\n",
        "    # Находим самый удаленный объект от первого центра\n",
        "    distances = np.linalg.norm(data - centers[0], axis=1)\n",
        "    farthest_idx = np.argmax(distances)\n",
        "    centers.append(data[farthest_idx].copy())\n",
        "\n",
        "    # Вычисляем порог\n",
        "    threshold = threshold_mult * np.linalg.norm(centers[0] - centers[1])\n",
        "\n",
        "\n",
        "    changed = True\n",
        "    while changed and len(centers) < max_clusters:\n",
        "        changed = False\n",
        "\n",
        "        # Вычисляем расстояния до ближайших центров\n",
        "        min_distances = np.full(n_samples, np.inf)\n",
        "        for i, center in enumerate(centers):\n",
        "            dist = np.linalg.norm(data - center, axis=1)\n",
        "            min_distances = np.minimum(min_distances, dist)\n",
        "\n",
        "        # Находим максимальное минимальное расстояние\n",
        "        max_min_dist = np.max(min_distances)\n",
        "        farthest_idx = np.argmax(min_distances)\n",
        "\n",
        "        # Проверяем условие добавления нового центра\n",
        "        if max_min_dist > threshold:\n",
        "            centers.append(data[farthest_idx].copy())\n",
        "            threshold = threshold_mult * max_min_dist\n",
        "            changed = True\n",
        "\n",
        "    #назначаем объекты к ближайшим центрам\n",
        "    for i in range(n_samples):\n",
        "        dists = [np.linalg.norm(data[i] - c) for c in centers]\n",
        "        labels[i] = np.argmin(dists)\n",
        "\n",
        "    return np.array(labels), centers"
      ],
      "metadata": {
        "id": "sOCObXGbX_kr"
      },
      "execution_count": null,
      "outputs": []
    },
    {
      "cell_type": "code",
      "source": [
        "def euclidean_distance(x1, x2):\n",
        "    \"\"\"\n",
        "    Вычисляет евклидово расстояние между двумя точками.\n",
        "\n",
        "    Параметры:\n",
        "    - x1, x2 (numpy.ndarray): Векторы признаков.\n",
        "\n",
        "    Возвращает:\n",
        "    - float: Расстояние между векторами.\n",
        "    \"\"\"\n",
        "    return np.sqrt(np.sum((x1 - x2) ** 2))\n"
      ],
      "metadata": {
        "id": "AMhZFDTgYf-5"
      },
      "execution_count": null,
      "outputs": []
    },
    {
      "cell_type": "code",
      "source": [
        "def kNN_predict(X_train, y_train, X_test, k=3):\n",
        "    \"\"\"\n",
        "    Реализация алгоритма k ближайших соседей.\n",
        "\n",
        "    Параметры:\n",
        "    - X_train: Обучающие данные.\n",
        "    - y_train: Метки обучающих данных.\n",
        "    - X_test: Тестовые данные.\n",
        "    - k: Количество соседей.\n",
        "\n",
        "    Возвращает:\n",
        "    - predictions: Предсказанные метки для тестовых данных.\n",
        "    \"\"\"\n",
        "    predictions = []\n",
        "    for test_point in X_test:\n",
        "        distances = [euclidean_distance(test_point, x) for x in X_train]\n",
        "        k_indices = np.argsort(distances)[:k]\n",
        "        k_labels = y_train[k_indices]\n",
        "        most_common = Counter(k_labels).most_common(1)\n",
        "        predictions.append(most_common[0][0])\n",
        "    return np.array(predictions)\n"
      ],
      "metadata": {
        "id": "LKzVMamMYe1o"
      },
      "execution_count": null,
      "outputs": []
    },
    {
      "cell_type": "code",
      "source": [
        "def evaluate_model(X_train, y_train, X_test, y_test, k):\n",
        "    \"\"\"\n",
        "    Функция для оценки точности модели.\n",
        "\n",
        "    Параметры:\n",
        "    - X_train: Обучающие данные.\n",
        "    - y_train: Метки обучающих данных.\n",
        "    - X_test: Тестовые данные.\n",
        "    - y_test: Метки тестовых данных.\n",
        "    - k: Количество соседей.\n",
        "\n",
        "    Возвращает:\n",
        "    - accuracy: точность модели.\n",
        "    \"\"\"\n",
        "    y_pred = kNN_predict(X_train, y_train, X_test, k=k)\n",
        "    accuracy = accuracy_score(y_test, y_pred)\n",
        "    return accuracy\n"
      ],
      "metadata": {
        "id": "lOqSZA7EYhPK"
      },
      "execution_count": null,
      "outputs": []
    },
    {
      "cell_type": "code",
      "source": [
        "def train_svm(X, y, C=1.0, learning_rate=0.001, iterations=1000, verbose=False):\n",
        "    \"\"\"\n",
        "    Обучение бинарного классификатора SVM с мягким зазором.\n",
        "\n",
        "    Параметры:\n",
        "    X - признаки обучающей выборки\n",
        "    y - метки классов (1 и -1)\n",
        "    C - параметр регуляризации\n",
        "    learning_rate - скорость обучения\n",
        "    iterations - количество итераций\n",
        "    verbose - вывод потерь в процессе обучения\n",
        "    \"\"\"\n",
        "    n_samples, n_features = X.shape\n",
        "    w = np.zeros(n_features)\n",
        "    b = 0.0\n",
        "\n",
        "    for it in range(iterations):\n",
        "        scores = np.dot(X, w) + b\n",
        "        y_pred = y * scores\n",
        "        hinge_loss = np.maximum(0, 1 - y_pred)\n",
        "        loss = 0.5 * np.dot(w, w) + C * np.sum(hinge_loss)\n",
        "\n",
        "        mask = hinge_loss > 0\n",
        "\n",
        "        if np.sum(mask) == 0:\n",
        "            grad_w = w\n",
        "            grad_b = 0\n",
        "        else:\n",
        "            grad_w = w - C * np.dot(X[mask].T, y[mask])\n",
        "            grad_b = -C * np.sum(y[mask])\n",
        "\n",
        "        w -= learning_rate * grad_w\n",
        "        b -= learning_rate * grad_b\n",
        "\n",
        "        if verbose and (it % 100 == 0):\n",
        "            print(f'Итерация {it}, Потери: {loss:.4f}')\n",
        "\n",
        "    return w, b\n",
        "\n"
      ],
      "metadata": {
        "id": "4YLA-ki3YpZo"
      },
      "execution_count": null,
      "outputs": []
    },
    {
      "cell_type": "markdown",
      "source": [
        "## Для внешнего оценивания"
      ],
      "metadata": {
        "id": "Z5pwhTrta8bT"
      }
    },
    {
      "cell_type": "markdown",
      "source": [
        "### Точность, отклик (полнота), F1-мера"
      ],
      "metadata": {
        "id": "nKoZFaivbBoi"
      }
    },
    {
      "cell_type": "code",
      "source": [
        "def calculate_precision_recall_f1(y_true, y_pred):\n",
        "    \"\"\"\n",
        "    Вычисляет точность, полноту и F1-меру для бинарной классификации\n",
        "\n",
        "    Параметры:\n",
        "    y_true - истинные метки классов\n",
        "    y_pred - предсказанные метки классов\n",
        "\n",
        "    Возвращает:\n",
        "    precision, recall, f1 - точность, полнота и F1-мера\n",
        "    \"\"\"\n",
        "    # Создаем функции для многоклассовой классификации\n",
        "    classes = np.unique(y_true)\n",
        "    precision_per_class = []\n",
        "    recall_per_class = []\n",
        "    f1_per_class = []\n",
        "\n",
        "    for cls in classes:\n",
        "        true_positives = np.sum((y_true == cls) & (y_pred == cls))\n",
        "        false_positives = np.sum((y_true != cls) & (y_pred == cls))\n",
        "        false_negatives = np.sum((y_true == cls) & (y_pred != cls))\n",
        "\n",
        "        precision = true_positives / (true_positives + false_positives) if (true_positives + false_positives) > 0 else 0\n",
        "        recall = true_positives / (true_positives + false_negatives) if (true_positives + false_negatives) > 0 else 0\n",
        "        f1 = 2 * (precision * recall) / (precision + recall) if (precision + recall) > 0 else 0\n",
        "\n",
        "        precision_per_class.append(precision)\n",
        "        recall_per_class.append(recall)\n",
        "        f1_per_class.append(f1)\n",
        "\n",
        "    # Вычисляем макро-средние значения\n",
        "    macro_precision = np.mean(precision_per_class)\n",
        "    macro_recall = np.mean(recall_per_class)\n",
        "    macro_f1 = np.mean(f1_per_class)\n",
        "\n",
        "    return macro_precision, macro_recall, macro_f1\n"
      ],
      "metadata": {
        "id": "1-dWlhTIahQF"
      },
      "execution_count": null,
      "outputs": []
    },
    {
      "cell_type": "markdown",
      "source": [
        "### ROC-кривые"
      ],
      "metadata": {
        "id": "lBs4XZudbCkB"
      }
    },
    {
      "cell_type": "code",
      "source": [
        "def plot_roc_curve(y_true, y_score):\n",
        "    \"\"\"\n",
        "    Строит ROC-кривую и вычисляет AUC\n",
        "\n",
        "    Параметры:\n",
        "    y_true - истинные метки классов (бинарные)\n",
        "    y_score - вероятности или оценки принадлежности к положительному классу\n",
        "\n",
        "    Возвращает:\n",
        "    auc - площадь под ROC-кривой\n",
        "    \"\"\"\n",
        "    # Сортируем по убыванию вероятностей\n",
        "    indices = np.argsort(y_score)[::-1]\n",
        "    y_true_sorted = y_true[indices]\n",
        "\n",
        "    # Для построения ROC-кривой нам нужны TPR и FPR\n",
        "    n_positive = np.sum(y_true == 1)\n",
        "    n_negative = len(y_true) - n_positive\n",
        "\n",
        "    tpr = np.zeros(len(y_true) + 1)\n",
        "    fpr = np.zeros(len(y_true) + 1)\n",
        "\n",
        "    tp_count = 0\n",
        "    fp_count = 0\n",
        "\n",
        "    # Первая точка (0,0)\n",
        "    for i in range(len(y_true)):\n",
        "        if y_true_sorted[i] == 1:\n",
        "            tp_count += 1\n",
        "        else:\n",
        "            fp_count += 1\n",
        "\n",
        "        tpr[i+1] = tp_count / n_positive\n",
        "        fpr[i+1] = fp_count / n_negative\n",
        "\n",
        "    # Вычисляем AUC\n",
        "    auc = np.trapz(tpr, fpr)\n",
        "\n",
        "    # Построение графика\n",
        "    plt.figure(figsize=(8, 6))\n",
        "    plt.plot(fpr, tpr, marker='.', label=f'AUC = {auc:.3f}')\n",
        "    plt.plot([0, 1], [0, 1], 'k--', label='Случайная классификация')\n",
        "    plt.xlabel('False Positive Rate')\n",
        "    plt.ylabel('True Positive Rate')\n",
        "    plt.title('ROC-кривая')\n",
        "    plt.legend()\n",
        "    plt.grid(True)\n",
        "\n",
        "    return auc"
      ],
      "metadata": {
        "id": "Tg5DMDoeatM6"
      },
      "execution_count": null,
      "outputs": []
    },
    {
      "cell_type": "markdown",
      "source": [
        "### Среднеквадратичная ошибка"
      ],
      "metadata": {
        "id": "43wZP9QmbL8R"
      }
    },
    {
      "cell_type": "code",
      "source": [
        "def mean_squared_error(y_true, y_pred):\n",
        "    \"\"\"\n",
        "    Вычисляет среднеквадратичную ошибку\n",
        "\n",
        "    Параметры:\n",
        "    y_true - истинные значения\n",
        "    y_pred - предсказанные значения\n",
        "\n",
        "    Возвращает:\n",
        "    mse - среднеквадратичная ошибка\n",
        "    \"\"\"\n",
        "    return np.mean((y_true - y_pred) ** 2)\n"
      ],
      "metadata": {
        "id": "l3bEolDnaw6r"
      },
      "execution_count": null,
      "outputs": []
    },
    {
      "cell_type": "markdown",
      "source": [
        "### Кросс-валидация"
      ],
      "metadata": {
        "id": "1xAjL7WYbOIZ"
      }
    },
    {
      "cell_type": "code",
      "source": [
        "def k_fold_cross_validation(X, y, model_func, n_splits=5):\n",
        "    \"\"\"\n",
        "    Выполняет k-fold кросс-валидацию\n",
        "\n",
        "    Параметры:\n",
        "    X - признаки\n",
        "    y - метки классов\n",
        "    model_func - функция, реализующая модель (должна принимать X_train, y_train, X_test и возвращать y_pred)\n",
        "    n_splits - количество разбиений\n",
        "\n",
        "    Возвращает:\n",
        "    mean_score - средняя метрика качества\n",
        "    scores - список метрик для каждого разбиения\n",
        "    \"\"\"\n",
        "    # Создаем индексы для разбиения\n",
        "    n_samples = len(X)\n",
        "    indices = np.arange(n_samples)\n",
        "    np.random.shuffle(indices)\n",
        "\n",
        "    fold_sizes = np.full(n_splits, n_samples // n_splits, dtype=int)\n",
        "    fold_sizes[:n_samples % n_splits] += 1\n",
        "\n",
        "    current = 0\n",
        "    test_indices = []\n",
        "    for fold_size in fold_sizes:\n",
        "        start, stop = current, current + fold_size\n",
        "        test_indices.append(indices[start:stop])\n",
        "        current = stop\n",
        "\n",
        "    # Выполняем кросс-валидацию\n",
        "    scores = []\n",
        "    for i in range(n_splits):\n",
        "        test_idx = test_indices[i]\n",
        "        train_idx = np.concatenate([test_indices[j] for j in range(n_splits) if j != i])\n",
        "\n",
        "        X_train, X_test = X[train_idx], X[test_idx]\n",
        "        y_train, y_test = y[train_idx], y[test_idx]\n",
        "\n",
        "        y_pred = model_func(X_train, y_train, X_test)\n",
        "\n",
        "        precision, recall, f1 = calculate_precision_recall_f1(y_test, y_pred)\n",
        "        scores.append(f1)  # Используем F1-меру в качестве метрики\n",
        "\n",
        "    return np.mean(scores), scores\n"
      ],
      "metadata": {
        "id": "pd-CQ9svay-6"
      },
      "execution_count": null,
      "outputs": []
    },
    {
      "cell_type": "markdown",
      "source": [
        "### Матрица неточностей (confusion matrix)"
      ],
      "metadata": {
        "id": "Myv4dcHQbRDJ"
      }
    },
    {
      "cell_type": "code",
      "source": [
        "def confusion_matrix(y_true, y_pred):\n",
        "    \"\"\"\n",
        "    Вычисляет матрицу неточностей\n",
        "\n",
        "    Параметры:\n",
        "    y_true - истинные метки классов\n",
        "    y_pred - предсказанные метки классов\n",
        "\n",
        "    Возвращает:\n",
        "    cm - матрица неточностей\n",
        "    \"\"\"\n",
        "    classes = np.unique(np.concatenate((y_true, y_pred)))\n",
        "    n_classes = len(classes)\n",
        "\n",
        "    # Создаем пустую матрицу неточностей\n",
        "    cm = np.zeros((n_classes, n_classes), dtype=int)\n",
        "\n",
        "    # Заполняем матрицу\n",
        "    for i in range(len(y_true)):\n",
        "        true_idx = np.where(classes == y_true[i])[0][0]\n",
        "        pred_idx = np.where(classes == y_pred[i])[0][0]\n",
        "        cm[true_idx, pred_idx] += 1\n",
        "\n",
        "    return cm, classes"
      ],
      "metadata": {
        "id": "MaOUwgxRa1Oi"
      },
      "execution_count": null,
      "outputs": []
    },
    {
      "cell_type": "code",
      "source": [
        "def plot_confusion_matrix(y_true, y_pred):\n",
        "    \"\"\"\n",
        "    Строит матрицу неточностей\n",
        "\n",
        "    Параметры:\n",
        "    y_true - истинные метки классов\n",
        "    y_pred - предсказанные метки классов\n",
        "    \"\"\"\n",
        "    cm, classes = confusion_matrix(y_true, y_pred)\n",
        "\n",
        "    plt.figure(figsize=(8, 6))\n",
        "    plt.imshow(cm, interpolation='nearest', cmap=plt.cm.Blues)\n",
        "    plt.title('Матрица неточностей')\n",
        "    plt.colorbar()\n",
        "\n",
        "    tick_marks = np.arange(len(classes))\n",
        "    plt.xticks(tick_marks, classes)\n",
        "    plt.yticks(tick_marks, classes)\n",
        "\n",
        "    plt.xlabel('Предсказанный класс')\n",
        "    plt.ylabel('Истинный класс')\n",
        "\n",
        "    # Добавляем значения в ячейки\n",
        "    for i in range(len(classes)):\n",
        "        for j in range(len(classes)):\n",
        "            plt.text(j, i, str(cm[i, j]),\n",
        "                     horizontalalignment='center',\n",
        "                     verticalalignment='center',\n",
        "                     color='white' if cm[i, j] > np.max(cm)/2 else 'black')\n",
        "\n",
        "    plt.tight_layout()\n"
      ],
      "metadata": {
        "id": "i0D5VFiHbTsh"
      },
      "execution_count": null,
      "outputs": []
    },
    {
      "cell_type": "markdown",
      "source": [
        "## Для внутреннего оценивания\n"
      ],
      "metadata": {
        "id": "vEjaOExabV24"
      }
    },
    {
      "cell_type": "markdown",
      "source": [
        "### Коэффициент детерминации (R-squared для случая без известного разбиения)"
      ],
      "metadata": {
        "id": "9SE9-wscbfco"
      }
    },
    {
      "cell_type": "code",
      "source": [
        "def r_squared(X, labels, centroids):\n",
        "    \"\"\"\n",
        "    Вычисляет коэффициент детерминации для кластеризации\n",
        "\n",
        "    Параметры:\n",
        "    X - данные\n",
        "    labels - метки кластеров\n",
        "    centroids - центроиды кластеров\n",
        "\n",
        "    Возвращает:\n",
        "    r2 - коэффициент детерминации\n",
        "    \"\"\"\n",
        "    # Общая дисперсия (отклонение от общего среднего)\n",
        "    overall_mean = np.mean(X, axis=0)\n",
        "    total_variance = np.sum(np.sum((X - overall_mean) ** 2, axis=1))\n",
        "\n",
        "    # Внутрикластерная дисперсия\n",
        "    within_variance = 0\n",
        "\n",
        "    for i in range(len(centroids)):\n",
        "        cluster_points = X[labels == i]\n",
        "        if len(cluster_points) > 0:\n",
        "            within_variance += np.sum(np.sum((cluster_points - centroids[i]) ** 2, axis=1))\n",
        "\n",
        "    # Коэффициент детерминации\n",
        "    r2 = 1 - (within_variance / total_variance)\n",
        "\n",
        "    return r2\n"
      ],
      "metadata": {
        "id": "zIvjMxugbcfx"
      },
      "execution_count": null,
      "outputs": []
    },
    {
      "cell_type": "markdown",
      "source": [
        "### Коэффициент силуэта"
      ],
      "metadata": {
        "id": "DaDFMD8pbjIp"
      }
    },
    {
      "cell_type": "code",
      "source": [
        "def silhouette_coefficient(X, labels):\n",
        "    \"\"\"\n",
        "    Вычисляет коэффициент силуэта для кластеризации\n",
        "\n",
        "    Параметры:\n",
        "    X - данные\n",
        "    labels - метки кластеров\n",
        "\n",
        "    Возвращает:\n",
        "    silhouette_avg - средний коэффициент силуэта\n",
        "    silhouette_samples - коэффициенты силуэта для каждого объекта\n",
        "    \"\"\"\n",
        "    n_samples = X.shape[0]\n",
        "    n_clusters = len(np.unique(labels))\n",
        "\n",
        "    # Предварительные проверки\n",
        "    if n_clusters <= 1 or n_clusters >= n_samples:\n",
        "        return 0, np.zeros(n_samples)\n",
        "\n",
        "    # Вычисляем расстояние между всеми точками\n",
        "    distances = pairwise_distances(X)\n",
        "\n",
        "    silhouette_samples = np.zeros(n_samples)\n",
        "\n",
        "    for i in range(n_samples):\n",
        "        # Получаем метку кластера для текущей точки\n",
        "        current_cluster = labels[i]\n",
        "\n",
        "        # Индексы точек того же кластера (исключая текущую точку)\n",
        "        same_cluster_indices = np.where(labels == current_cluster)[0]\n",
        "        same_cluster_indices = same_cluster_indices[same_cluster_indices != i]\n",
        "\n",
        "        if len(same_cluster_indices) == 0:  # Если точка одна в кластере\n",
        "            silhouette_samples[i] = 0\n",
        "            continue\n",
        "\n",
        "        # Среднее расстояние до точек того же кластера (a)\n",
        "        a = np.mean(distances[i, same_cluster_indices])\n",
        "\n",
        "        # Среднее расстояние до точек других кластеров\n",
        "        b_values = []\n",
        "        for cluster in np.unique(labels):\n",
        "            if cluster != current_cluster:\n",
        "                other_cluster_indices = np.where(labels == cluster)[0]\n",
        "                if len(other_cluster_indices) > 0:\n",
        "                    mean_distance = np.mean(distances[i, other_cluster_indices])\n",
        "                    b_values.append(mean_distance)\n",
        "\n",
        "        if not b_values:  # Если только один кластер\n",
        "            silhouette_samples[i] = 0\n",
        "            continue\n",
        "\n",
        "        # Ближайший другой кластер (b)\n",
        "        b = min(b_values)\n",
        "\n",
        "        # Вычисляем коэффициент силуэта\n",
        "        silhouette_samples[i] = (b - a) / max(a, b)\n",
        "\n",
        "    silhouette_avg = np.mean(silhouette_samples)\n",
        "\n",
        "    return silhouette_avg, silhouette_samples\n"
      ],
      "metadata": {
        "id": "LEeAqqTzblpw"
      },
      "execution_count": null,
      "outputs": []
    },
    {
      "cell_type": "markdown",
      "source": [
        "### Индекс Данна (Dunn index)\n"
      ],
      "metadata": {
        "id": "b7CE2F52bnnP"
      }
    },
    {
      "cell_type": "code",
      "source": [
        "def dunn_index(X, labels, centroids):\n",
        "    \"\"\"\n",
        "    Вычисляет индекс Данна для кластеризации\n",
        "\n",
        "    Параметры:\n",
        "    X - данные\n",
        "    labels - метки кластеров\n",
        "    centroids - центроиды кластеров\n",
        "\n",
        "    Возвращает:\n",
        "    dunn - индекс Данна\n",
        "    \"\"\"\n",
        "    n_clusters = len(centroids)\n",
        "\n",
        "    # Вычисляем минимальное межкластерное расстояние\n",
        "    min_inter_cluster_dist = float('inf')\n",
        "    for i in range(n_clusters):\n",
        "        for j in range(i + 1, n_clusters):\n",
        "            dist = np.linalg.norm(centroids[i] - centroids[j])\n",
        "            min_inter_cluster_dist = min(min_inter_cluster_dist, dist)\n",
        "\n",
        "    # Вычисляем максимальный диаметр кластера\n",
        "    max_intra_cluster_dist = 0\n",
        "    for i in range(n_clusters):\n",
        "        cluster_points = X[labels == i]\n",
        "        if len(cluster_points) > 1:  # Нужно минимум 2 точки для расчета расстояний\n",
        "            # Вычисляем попарные расстояния внутри кластера\n",
        "            dists = pairwise_distances(cluster_points)\n",
        "            max_intra_cluster_dist = max(max_intra_cluster_dist, np.max(dists))\n",
        "\n",
        "    if max_intra_cluster_dist == 0:\n",
        "        return float('inf')  # Избегаем деления на ноль\n",
        "\n",
        "    dunn = min_inter_cluster_dist / max_intra_cluster_dist\n",
        "\n",
        "    return dunn\n"
      ],
      "metadata": {
        "id": "L3CvjvsYbrOo"
      },
      "execution_count": null,
      "outputs": []
    },
    {
      "cell_type": "markdown",
      "source": [
        "### Индекс Девиса-Болдина (DBI)"
      ],
      "metadata": {
        "id": "qSsZsQWObtIH"
      }
    },
    {
      "cell_type": "code",
      "source": [
        "def davis_bouldin_index(X, labels, centroids):\n",
        "    \"\"\"\n",
        "    Вычисляет индекс Дэвиса-Болдина для кластеризации\n",
        "\n",
        "    Параметры:\n",
        "    X - данные\n",
        "    labels - метки кластеров\n",
        "    centroids - центроиды кластеров\n",
        "\n",
        "    Возвращает:\n",
        "    dbi - индекс Дэвиса-Болдина\n",
        "    \"\"\"\n",
        "    n_clusters = len(centroids)\n",
        "\n",
        "    if n_clusters <= 1:\n",
        "        return 0.0\n",
        "\n",
        "    # Вычисляем разброс внутри каждого кластера\n",
        "    cluster_dispersion = np.zeros(n_clusters)\n",
        "    for i in range(n_clusters):\n",
        "        cluster_points = X[labels == i]\n",
        "        if len(cluster_points) > 0:\n",
        "            # Среднее расстояние от точек до центроида\n",
        "            distances = np.linalg.norm(cluster_points - centroids[i], axis=1)\n",
        "            cluster_dispersion[i] = np.mean(distances)\n",
        "\n",
        "    # Вычисляем индекс Дэвиса-Болдина\n",
        "    db_values = np.zeros(n_clusters)\n",
        "    for i in range(n_clusters):\n",
        "        max_ratio = 0\n",
        "        for j in range(n_clusters):\n",
        "            if i != j:\n",
        "                # Расстояние между центроидами\n",
        "                centroid_distance = np.linalg.norm(centroids[i] - centroids[j])\n",
        "                if centroid_distance > 0:  # Избегаем деления на ноль\n",
        "                    ratio = (cluster_dispersion[i] + cluster_dispersion[j]) / centroid_distance\n",
        "                    max_ratio = max(max_ratio, ratio)\n",
        "        db_values[i] = max_ratio\n",
        "\n",
        "    dbi = np.mean(db_values)\n",
        "\n",
        "    return dbi\n"
      ],
      "metadata": {
        "id": "A7pIe6FObunv"
      },
      "execution_count": null,
      "outputs": []
    },
    {
      "cell_type": "markdown",
      "source": [
        "### Индекс валидности по плотности кластеризации (DBCV)\n"
      ],
      "metadata": {
        "id": "5_XYMR-rbzZw"
      }
    },
    {
      "cell_type": "code",
      "source": [
        "def calculate_density(X, point_idx, k=7):\n",
        "    \"\"\"\n",
        "    Вычисляет плотность для точки\n",
        "\n",
        "    Параметры:\n",
        "    X - данные\n",
        "    point_idx - индекс точки\n",
        "    k - количество соседей для расчета плотности\n",
        "\n",
        "    Возвращает:\n",
        "    density - плотность\n",
        "    \"\"\"\n",
        "    distances = np.linalg.norm(X - X[point_idx], axis=1)\n",
        "    distances.sort()\n",
        "\n",
        "    # Используем k-ое ближайшее расстояние для оценки плотности\n",
        "    if k < len(distances):\n",
        "        density = 1.0 / distances[k]\n",
        "    else:\n",
        "        density = 1.0 / distances[-1]\n",
        "\n",
        "    return density\n",
        "\n"
      ],
      "metadata": {
        "id": "bpP0mzEOb29v"
      },
      "execution_count": null,
      "outputs": []
    },
    {
      "cell_type": "code",
      "source": [
        "def density_based_clustering_validation(X, labels):\n",
        "    \"\"\"\n",
        "    Вычисляет индекс валидности по плотности кластеризации\n",
        "\n",
        "    Параметры:\n",
        "    X - данные\n",
        "    labels - метки кластеров\n",
        "\n",
        "    Возвращает:\n",
        "    dbcv - индекс валидности\n",
        "    \"\"\"\n",
        "    n_samples = X.shape[0]\n",
        "    n_clusters = len(np.unique(labels))\n",
        "\n",
        "    if n_clusters <= 1 or n_clusters >= n_samples:\n",
        "        return 0.0\n",
        "\n",
        "    # Вычисляем плотность для каждой точки\n",
        "    densities = np.zeros(n_samples)\n",
        "    for i in range(n_samples):\n",
        "        densities[i] = calculate_density(X, i)\n",
        "\n",
        "    # Вычисляем среднюю плотность для каждого кластера\n",
        "    cluster_densities = np.zeros(n_clusters)\n",
        "    for i, cluster in enumerate(np.unique(labels)):\n",
        "        cluster_points = np.where(labels == cluster)[0]\n",
        "        cluster_densities[i] = np.mean(densities[cluster_points])\n",
        "\n",
        "    # Вычисляем плотность между кластерами\n",
        "    inter_cluster_densities = np.zeros((n_clusters, n_clusters))\n",
        "    for i in range(n_clusters):\n",
        "        for j in range(i + 1, n_clusters):\n",
        "            cluster_i_points = X[labels == i]\n",
        "            cluster_j_points = X[labels == j]\n",
        "\n",
        "            # Находим точки с минимальным расстоянием между кластерами\n",
        "            min_density = 0\n",
        "\n",
        "            for idx_i, point_i in enumerate(cluster_i_points):\n",
        "                for idx_j, point_j in enumerate(cluster_j_points):\n",
        "                    dist = np.linalg.norm(point_i - point_j)\n",
        "                    density = 1.0 / dist if dist > 0 else float('inf')\n",
        "                    min_density = max(min_density, density)\n",
        "\n",
        "            inter_cluster_densities[i, j] = min_density\n",
        "            inter_cluster_densities[j, i] = min_density\n",
        "\n",
        "    # Вычисляем валидность по плотности\n",
        "    dbcv = 0\n",
        "    for i in range(n_clusters):\n",
        "        max_inter_density = 0\n",
        "        for j in range(n_clusters):\n",
        "            if i != j:\n",
        "                max_inter_density = max(max_inter_density, inter_cluster_densities[i, j])\n",
        "\n",
        "        if max_inter_density > 0 and cluster_densities[i] > 0:\n",
        "            # Мера разделимости\n",
        "            separation = cluster_densities[i] / max_inter_density\n",
        "            dbcv += np.log(separation)\n",
        "\n",
        "    dbcv /= n_clusters\n",
        "\n",
        "    return dbcv\n"
      ],
      "metadata": {
        "id": "XbClbHTlb4tW"
      },
      "execution_count": null,
      "outputs": []
    },
    {
      "cell_type": "markdown",
      "source": [
        "## Демонстрация работы программы"
      ],
      "metadata": {
        "id": "0ihbJd25b9RX"
      }
    },
    {
      "cell_type": "code",
      "source": [
        "# Загрузка данных\n",
        "data = pd.read_csv('iris.csv.gz')"
      ],
      "metadata": {
        "id": "1Zeq_3NicC9X"
      },
      "execution_count": null,
      "outputs": []
    },
    {
      "cell_type": "code",
      "source": [
        "# Разделение данных на признаки (X) и метки классов (y)\n",
        "X = data.iloc[:, :-1].values\n",
        "y = data.iloc[:, -1].values"
      ],
      "metadata": {
        "id": "njfGkbs0cJSX"
      },
      "execution_count": null,
      "outputs": []
    },
    {
      "cell_type": "code",
      "source": [
        "# Нормализация данных\n",
        "scaler = StandardScaler()\n",
        "X_scaled = scaler.fit_transform(X)"
      ],
      "metadata": {
        "id": "-Jf3R41ycPDD"
      },
      "execution_count": null,
      "outputs": []
    },
    {
      "cell_type": "code",
      "source": [
        "# Преобразование меток в числовые\n",
        "le = LabelEncoder()\n",
        "y = le.fit_transform(y)"
      ],
      "metadata": {
        "id": "DjIWK7OxeGfp"
      },
      "execution_count": null,
      "outputs": []
    },
    {
      "cell_type": "code",
      "source": [
        "# Разделение на обучающую и тестовую выборки\n",
        "X_train, X_test, y_train, y_test = train_test_split(X_scaled, y, test_size=0.3, random_state=42)"
      ],
      "metadata": {
        "id": "sBpgq-J1cQ7e"
      },
      "execution_count": null,
      "outputs": []
    },
    {
      "cell_type": "markdown",
      "source": [
        "### k-means"
      ],
      "metadata": {
        "id": "oASQSf4iejL3"
      }
    },
    {
      "cell_type": "code",
      "source": [
        "# Применение алгоритма k-means\n",
        "centroids, labels = k_means(X_scaled, n_clusters=3)\n",
        "\n",
        "# Оценка внутренних метрик\n",
        "print(\"Внутренние метрики для k-means:\")\n",
        "silhouette_avg, _ = silhouette_coefficient(X_scaled, labels)\n",
        "print(f\"Коэффициент силуэта: {silhouette_avg:.3f}\")\n",
        "\n",
        "dunn = dunn_index(X_scaled, labels, centroids)\n",
        "print(f\"Индекс Данна: {dunn:.3f}\")\n",
        "\n",
        "dbi = davis_bouldin_index(X_scaled, labels, centroids)\n",
        "print(f\"Индекс Дэвиса-Болдина: {dbi:.3f}\")\n",
        "\n",
        "r2 = r_squared(X_scaled, labels, centroids)\n",
        "print(f\"Коэффициент детерминации: {r2:.3f}\")\n",
        "\n",
        "dbcv = density_based_clustering_validation(X_scaled, labels)\n",
        "print(f\"DBCV: {dbcv:.3f}\")\n",
        "\n",
        "# Оценка внешних метрик\n",
        "print(\"\\nВнешние метрики (сравнение с истинными метками):\")\n",
        "precision, recall, f1 = calculate_precision_recall_f1(y, labels)\n",
        "print(f\"Точность: {precision:.3f}\")\n",
        "print(f\"Полнота: {recall:.3f}\")\n",
        "print(f\"F1-мера: {f1:.3f}\")\n",
        "\n",
        "# Построение матрицы неточностей\n",
        "plot_confusion_matrix(y, labels)\n",
        "plt.show()\n",
        "\n",
        "# Обучение SVM для демонстрации ROC-кривой\n",
        "# Преобразуем в бинарную задачу (класс 0 против остальных)\n",
        "y_binary = np.where(y == 0, 1, 0)\n",
        "w, b = train_svm(X_scaled, y_binary * 2 - 1)  # Преобразуем к {-1, 1}\n",
        "\n",
        "# Получаем оценки для ROC-кривой\n",
        "scores = np.dot(X_scaled, w) + b\n",
        "\n",
        "# Строим ROC-кривую\n",
        "auc = plot_roc_curve(y_binary, scores)\n",
        "print(f\"AUC: {auc:.3f}\")\n",
        "plt.show()\n",
        "\n",
        "# Кросс-валидация для kNN\n",
        "def knn_model(X_train, y_train, X_test, k=3):\n",
        "    return kNN_predict(X_train, y_train, X_test, k)\n",
        "\n",
        "mean_score, scores = k_fold_cross_validation(X_scaled, y, lambda X_train, y_train, X_test: knn_model(X_train, y_train, X_test), n_splits=5)\n",
        "print(f\"\\nСредняя F1-мера по кросс-валидации для kNN: {mean_score:.3f}\")\n",
        "print(f\"F1-меры по фолдам: {[f'{s:.3f}' for s in scores]}\")\n"
      ],
      "metadata": {
        "colab": {
          "base_uri": "https://localhost:8080/",
          "height": 1000
        },
        "id": "pl-VA5sXeJah",
        "outputId": "153c4257-6b6a-4934-b950-f4e4d1bf3cc0"
      },
      "execution_count": null,
      "outputs": [
        {
          "output_type": "stream",
          "name": "stdout",
          "text": [
            "Внутренние метрики для k-means:\n",
            "Коэффициент силуэта: 0.462\n",
            "Индекс Данна: 0.361\n",
            "Индекс Дэвиса-Болдина: 0.834\n",
            "Коэффициент детерминации: 0.765\n",
            "DBCV: -0.117\n",
            "\n",
            "Внешние метрики (сравнение с истинными метками):\n",
            "Точность: 0.250\n",
            "Полнота: 0.220\n",
            "F1-мера: 0.234\n"
          ]
        },
        {
          "output_type": "display_data",
          "data": {
            "text/plain": [
              "<Figure size 800x600 with 2 Axes>"
            ],
            "image/png": "[encoded data removed]"
          },
          "metadata": {}
        },
        {
          "output_type": "stream",
          "name": "stdout",
          "text": [
            "AUC: 1.000\n"
          ]
        },
        {
          "output_type": "stream",
          "name": "stderr",
          "text": [
            "<ipython-input-19-1fe4dd500200>:37: DeprecationWarning: `trapz` is deprecated. Use `trapezoid` instead, or one of the numerical integration functions in `scipy.integrate`.\n",
            "  auc = np.trapz(tpr, fpr)\n"
          ]
        },
        {
          "output_type": "display_data",
          "data": {
            "text/plain": [
              "<Figure size 800x600 with 1 Axes>"
            ],
            "image/png": "[encoded data removed]"
          },
          "metadata": {}
        },
        {
          "output_type": "stream",
          "name": "stdout",
          "text": [
            "\n",
            "Средняя F1-мера по кросс-валидации для kNN: 0.954\n",
            "F1-меры по фолдам: ['0.957', '0.970', '0.909', '1.000', '0.933']\n"
          ]
        }
      ]
    },
    {
      "cell_type": "markdown",
      "source": [
        "### kNN"
      ],
      "metadata": {
        "id": "eDUwaOlweoQH"
      }
    },
    {
      "cell_type": "code",
      "source": [],
      "metadata": {
        "id": "DFlYfAjlerZn"
      },
      "execution_count": null,
      "outputs": []
    },
    {
      "cell_type": "markdown",
      "source": [
        "### SVM"
      ],
      "metadata": {
        "id": "gfx_CRgWerpn"
      }
    },
    {
      "cell_type": "code",
      "source": [],
      "metadata": {
        "id": "JnibEpP8esU3"
      },
      "execution_count": null,
      "outputs": []
    },
    {
      "cell_type": "markdown",
      "source": [
        "### максимин"
      ],
      "metadata": {
        "id": "ef-9m_K4esmP"
      }
    },
    {
      "cell_type": "code",
      "source": [],
      "metadata": {
        "id": "9HPLpnrVeyEf"
      },
      "execution_count": null,
      "outputs": []
    }
  ]
}