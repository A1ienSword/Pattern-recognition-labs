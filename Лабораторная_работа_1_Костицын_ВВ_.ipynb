{
  "nbformat": 4,
  "nbformat_minor": 0,
  "metadata": {
    "colab": {
      "provenance": [],
      "authorship_tag": "ABX9TyPnBl5+/9+OibOYZ9puH8Bv",
      "include_colab_link": true
    },
    "kernelspec": {
      "name": "python3",
      "display_name": "Python 3"
    },
    "language_info": {
      "name": "python"
    }
  },
  "cells": [
    {
      "cell_type": "markdown",
      "metadata": {
        "id": "view-in-github",
        "colab_type": "text"
      },
      "source": [
        "<a href=\"https://colab.research.google.com/github/A1ienSword/Pattern-recognition-labs/blob/main/%D0%9B%D0%B0%D0%B1%D0%BE%D1%80%D0%B0%D1%82%D0%BE%D1%80%D0%BD%D0%B0%D1%8F_%D1%80%D0%B0%D0%B1%D0%BE%D1%82%D0%B0_1_%D0%9A%D0%BE%D1%81%D1%82%D0%B8%D1%86%D1%8B%D0%BD_%D0%92%D0%92_.ipynb\" target=\"_parent\"><img src=\"https://colab.research.google.com/assets/colab-badge.svg\" alt=\"Open In Colab\"/></a>"
      ]
    },
    {
      "cell_type": "code",
      "execution_count": 18,
      "metadata": {
        "id": "KLyv_aURZI90"
      },
      "outputs": [],
      "source": [
        "import numpy as np\n",
        "import pandas as pd\n",
        "from sklearn.model_selection import train_test_split"
      ]
    },
    {
      "cell_type": "code",
      "source": [
        "# Загрузка данных\n",
        "data = pd.read_csv('iris.csv.gz')"
      ],
      "metadata": {
        "id": "faIq2az9ZOua"
      },
      "execution_count": 32,
      "outputs": []
    },
    {
      "cell_type": "code",
      "source": [
        "# Разделение данных на признаки (X) и метки классов (y)\n",
        "X = data.iloc[:, :-1].values\n",
        "y = data.iloc[:, -1].values"
      ],
      "metadata": {
        "id": "gWyAmh7TZTOC"
      },
      "execution_count": 33,
      "outputs": []
    },
    {
      "cell_type": "code",
      "source": [
        "# Разделение на обучающую и тестовую выборки\n",
        "X_train, X_test, y_train, y_test = train_test_split(X, y, test_size=0.1, random_state=23)"
      ],
      "metadata": {
        "id": "dtKApTx3ZUvw"
      },
      "execution_count": 34,
      "outputs": []
    },
    {
      "cell_type": "code",
      "source": [
        "def euclidean_distance(x1, x2):\n",
        "    \"\"\"\n",
        "    Вычисляет евклидово расстояние между двумя точками.\n",
        "\n",
        "    Параметры:\n",
        "    - x1 (numpy.ndarray): Координаты первой точки.\n",
        "    - x2 (numpy.ndarray): Координаты второй точки.\n",
        "\n",
        "    Возвращает:\n",
        "    - float: Евклидово расстояние.\n",
        "    \"\"\"\n",
        "    return np.sqrt(np.sum((x1 - x2) ** 2))"
      ],
      "metadata": {
        "id": "n2qDLZ65ZlM6"
      },
      "execution_count": 22,
      "outputs": []
    },
    {
      "cell_type": "code",
      "source": [
        "def hamming_distance(x1, x2):\n",
        "    \"\"\"\n",
        "    Вычисляет расстояние Хэмминга между двумя точками.\n",
        "    (Расстояние Хэмминга определяет количество позиций, в которых соответствующие элементы двух векторов различаются.)\n",
        "\n",
        "    Параметры:\n",
        "    - x1 (numpy.ndarray): Координаты первой точки.\n",
        "    - x2 (numpy.ndarray): Координаты второй точки.\n",
        "\n",
        "    Возвращает:\n",
        "    - int: Расстояние Хэмминга.\n",
        "    \"\"\"\n",
        "    return np.sum(x1 != x2)"
      ],
      "metadata": {
        "id": "HuKhajgUZ2Bu"
      },
      "execution_count": 23,
      "outputs": []
    },
    {
      "cell_type": "code",
      "source": [
        "def manhattan_distance(x1, x2):\n",
        "    \"\"\"\n",
        "    Вычисляет манхэттенское расстояние между двумя точками.\n",
        "    многомерном пространстве, основанная на сумме абсолютных разностей их координат.\n",
        "\n",
        "    Параметры:\n",
        "    - x1 (numpy.ndarray): Координаты первой точки.\n",
        "    - x2 (numpy.ndarray): Координаты второй точки.\n",
        "\n",
        "    Возвращает:\n",
        "    - float: Манхэттенское расстояние.\n",
        "    \"\"\"\n",
        "    return np.sum(np.abs(x1 - x2))"
      ],
      "metadata": {
        "id": "Aqt0A6lqZ5fR"
      },
      "execution_count": 24,
      "outputs": []
    },
    {
      "cell_type": "code",
      "source": [
        "def jaccard_similarity(x1, x2):\n",
        "    \"\"\"\n",
        "    Вычисляет коэффициент Жаккара между двумя точками.\n",
        "    Коэффициент Жаккара — это мера сходства между двумя наборами данных, которая определяется как отношение размера их пересечения к размеру их объединения.\n",
        "    Однако, в данной реализации возвращается не сам коэффициент Жаккара, а скорее его дополнение (1 - коэффициент Жаккара), что может быть полезно для определения расстояния.\n",
        "\n",
        "    Параметры:\n",
        "    - x1 (numpy.ndarray): Координаты первой точки.\n",
        "    - x2 (numpy.ndarray): Координаты второй точки.\n",
        "\n",
        "    Возвращает:\n",
        "    - float: Коэффициент Жаккара.\n",
        "    \"\"\"\n",
        "    intersection = np.sum(np.minimum(x1, x2))\n",
        "    union = np.sum(np.maximum(x1, x2))\n",
        "    return 1 - (intersection / union)"
      ],
      "metadata": {
        "id": "gxT6qDkqaAb7"
      },
      "execution_count": 25,
      "outputs": []
    },
    {
      "cell_type": "code",
      "source": [
        "def cosine_similarity(x1, x2):\n",
        "    \"\"\"\n",
        "    Вычисляет косинусное сходство между двумя точками.\n",
        "    Косинусное сходство — это мера сходства между двумя ненулевыми векторами, определяемая косинусом угла между ними.\n",
        "\n",
        "    Параметры:\n",
        "    - x1 (numpy.ndarray): Координаты первой точки.\n",
        "    - x2 (numpy.ndarray): Координаты второй точки.\n",
        "\n",
        "    Возвращает:\n",
        "    - float: Косинусное сходство.\n",
        "    \"\"\"\n",
        "    dot_product = np.dot(x1, x2)\n",
        "    norm_x1 = np.linalg.norm(x1)\n",
        "    norm_x2 = np.linalg.norm(x2)\n",
        "    return 1 - (dot_product / (norm_x1 * norm_x2))"
      ],
      "metadata": {
        "id": "_d8UTEH8aMe0"
      },
      "execution_count": 26,
      "outputs": []
    },
    {
      "cell_type": "code",
      "source": [
        "def classify(X_train, y_train, x_test, metric):\n",
        "    \"\"\"\n",
        "    Классифицирует тестовую точку на основе ближайшего соседа.\n",
        "\n",
        "    Параметры:\n",
        "    - X_train (array-like): Обучающая выборка (признаки).\n",
        "    - y_train (array-like): Метки классов для обучающей выборки.\n",
        "    - x_test (array-like): Тестовая точка.\n",
        "    - metric (function): Функция для вычисления расстояния или схожести.\n",
        "\n",
        "    Возвращает:\n",
        "    - int: Метка класса ближайшего соседа.\n",
        "    \"\"\"\n",
        "    distances = []\n",
        "    for i in range(len(X_train)):\n",
        "        dist = metric(X_train[i], x_test)\n",
        "        distances.append((dist, y_train[i]))\n",
        "    distances.sort(key=lambda x: x[0])\n",
        "    return distances[0][1]"
      ],
      "metadata": {
        "id": "Lou6fw7iaV1G"
      },
      "execution_count": 27,
      "outputs": []
    },
    {
      "cell_type": "code",
      "source": [
        "# Тестирование на тестовой выборке\n",
        "def test_classification(X_train, y_train, X_test, y_test, metric):\n",
        "    \"\"\"\n",
        "    Функция для тестирования классификации на тестовой выборке.\n",
        "\n",
        "    Параметры:\n",
        "    X_train (array-like): Обучающая выборка (признаки).\n",
        "    y_train (array-like): Метки классов для обучающей выборки.\n",
        "    X_test (array-like): Тестовая выборка (признаки).\n",
        "    y_test (array-like): Метки классов для тестовой выборки.\n",
        "    metric (function): Функция для вычисления расстояния или схожести.\n",
        "\n",
        "    Возвращает:\n",
        "    float: Доля правильно классифицированных примеров (точность).\n",
        "    \"\"\"\n",
        "    correct = 0\n",
        "    for i in range(len(X_test)):\n",
        "        predicted = classify(X_train, y_train, X_test[i], metric)\n",
        "        if predicted == y_test[i]:\n",
        "            correct += 1\n",
        "    accuracy = correct / len(X_test)\n",
        "    return accuracy"
      ],
      "metadata": {
        "id": "l7eJM9A4arr_"
      },
      "execution_count": 28,
      "outputs": []
    },
    {
      "cell_type": "code",
      "source": [
        "metrics = {\n",
        "    'Евклида': euclidean_distance,\n",
        "    'Хэмминга': hamming_distance,\n",
        "    'Городских кварталов': manhattan_distance,\n",
        "    'Жаккарда': jaccard_similarity,\n",
        "    'Косинусная': cosine_similarity\n",
        "}"
      ],
      "metadata": {
        "id": "Ai62RdkhavFn"
      },
      "execution_count": 35,
      "outputs": []
    },
    {
      "cell_type": "code",
      "source": [
        "for metric_name, metric_func in metrics.items():\n",
        "    accuracy = test_classification(X_train, y_train, X_test, y_test, metric_func)\n",
        "    print(f'Метрика {metric_name} точность: {accuracy:.2f}')"
      ],
      "metadata": {
        "colab": {
          "base_uri": "https://localhost:8080/"
        },
        "id": "14TV1bUZaxll",
        "outputId": "4b9facbf-0e58-4748-d58d-1792d9b19b06"
      },
      "execution_count": 37,
      "outputs": [
        {
          "output_type": "stream",
          "name": "stdout",
          "text": [
            "Метрика Евклида точность: 1.00\n",
            "Метрика Хэмминга точность: 0.87\n",
            "Метрика Городских кварталов точность: 1.00\n",
            "Метрика Жаккарда точность: 1.00\n",
            "Метрика Косинусная точность: 0.93\n"
          ]
        }
      ]
    }
  ]
}